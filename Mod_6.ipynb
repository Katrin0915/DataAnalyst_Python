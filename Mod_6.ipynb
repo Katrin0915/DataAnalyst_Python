{
  "nbformat": 4,
  "nbformat_minor": 0,
  "metadata": {
    "colab": {
      "name": "Mod_6.ipynb",
      "provenance": [],
      "authorship_tag": "ABX9TyPn33PDH5W9bgFxDLGUPZbt",
      "include_colab_link": true
    },
    "kernelspec": {
      "name": "python3",
      "display_name": "Python 3"
    },
    "language_info": {
      "name": "python"
    }
  },
  "cells": [
    {
      "cell_type": "markdown",
      "metadata": {
        "id": "view-in-github",
        "colab_type": "text"
      },
      "source": [
        "<a href=\"https://colab.research.google.com/github/Katrin0915/MyTraining/blob/main/Mod_6.ipynb\" target=\"_parent\"><img src=\"https://colab.research.google.com/assets/colab-badge.svg\" alt=\"Open In Colab\"/></a>"
      ]
    },
    {
      "cell_type": "markdown",
      "source": [
        "# Домашнее задание к лекции «Исключения и обработка ошибок»"
      ],
      "metadata": {
        "id": "oSDULaE6Ufy7"
      }
    },
    {
      "cell_type": "markdown",
      "source": [
        "## Задание 1\n",
        "### Печатные газеты использовали свой формат дат для каждого выпуска. Для каждой газеты из списка напишите формат указанной даты для перевода в объект datetime:\n",
        "####The Moscow Times - Wednesday, October 2, 2002\n",
        "####The Guardian - Friday, 11.10.13\n",
        "####Daily News - Thursday, 18 August 1977"
      ],
      "metadata": {
        "id": "BReA4zFIUmx-"
      }
    },
    {
      "cell_type": "code",
      "source": [
        "from datetime import datetime"
      ],
      "metadata": {
        "id": "GdzTtYUtXgQh"
      },
      "execution_count": null,
      "outputs": []
    },
    {
      "cell_type": "code",
      "source": [
        "The_Moscow_Times = 'Wednesday, October 2, 2002'\n",
        "new_datetime = datetime.strptime(The_Moscow_Times, '%A, %B %d, %Y')\n",
        "new_datetime"
      ],
      "metadata": {
        "colab": {
          "base_uri": "https://localhost:8080/"
        },
        "id": "dKQSyT7hXtWT",
        "outputId": "9f315c2a-e2b0-4fe6-abaa-8c548615986e"
      },
      "execution_count": null,
      "outputs": [
        {
          "output_type": "execute_result",
          "data": {
            "text/plain": [
              "datetime.datetime(2002, 10, 2, 0, 0)"
            ]
          },
          "metadata": {},
          "execution_count": 8
        }
      ]
    },
    {
      "cell_type": "code",
      "source": [
        "new_datetime.year"
      ],
      "metadata": {
        "colab": {
          "base_uri": "https://localhost:8080/"
        },
        "id": "IYNWUvjpZnX3",
        "outputId": "d6a4e241-d99d-454c-c18f-54c2e6347514"
      },
      "execution_count": null,
      "outputs": [
        {
          "output_type": "execute_result",
          "data": {
            "text/plain": [
              "2002"
            ]
          },
          "metadata": {},
          "execution_count": 4
        }
      ]
    },
    {
      "cell_type": "code",
      "source": [
        "new_datetime.month"
      ],
      "metadata": {
        "colab": {
          "base_uri": "https://localhost:8080/"
        },
        "id": "V_VrQ6A9ZtxT",
        "outputId": "5af2ba5c-189a-4368-ad21-d327756348f6"
      },
      "execution_count": null,
      "outputs": [
        {
          "output_type": "execute_result",
          "data": {
            "text/plain": [
              "10"
            ]
          },
          "metadata": {},
          "execution_count": 5
        }
      ]
    },
    {
      "cell_type": "code",
      "source": [
        "new_datetime.day"
      ],
      "metadata": {
        "colab": {
          "base_uri": "https://localhost:8080/"
        },
        "id": "XybMeqs3ZzYM",
        "outputId": "cde2b15e-4ef3-4fc7-a026-cd698ae5ce2c"
      },
      "execution_count": null,
      "outputs": [
        {
          "output_type": "execute_result",
          "data": {
            "text/plain": [
              "2"
            ]
          },
          "metadata": {},
          "execution_count": 9
        }
      ]
    },
    {
      "cell_type": "code",
      "source": [
        "new_datetime.weekday()"
      ],
      "metadata": {
        "colab": {
          "base_uri": "https://localhost:8080/"
        },
        "id": "W7dcxQykZ_ju",
        "outputId": "785e0aca-e62a-405c-eeca-68a0939a900a"
      },
      "execution_count": null,
      "outputs": [
        {
          "output_type": "execute_result",
          "data": {
            "text/plain": [
              "2"
            ]
          },
          "metadata": {},
          "execution_count": 11
        }
      ]
    },
    {
      "cell_type": "code",
      "source": [
        "The_Guardian = 'Friday, 11.10.13'\n",
        "new_datetime2 = datetime.strptime(The_Guardian, '%A, %d.%m.%y')\n",
        "new_datetime2"
      ],
      "metadata": {
        "colab": {
          "base_uri": "https://localhost:8080/"
        },
        "id": "VgbRcKrgbukp",
        "outputId": "56b3fd3a-a168-4cc5-f571-18c42651a5a3"
      },
      "execution_count": null,
      "outputs": [
        {
          "output_type": "execute_result",
          "data": {
            "text/plain": [
              "datetime.datetime(2013, 10, 11, 0, 0)"
            ]
          },
          "metadata": {},
          "execution_count": 13
        }
      ]
    },
    {
      "cell_type": "code",
      "source": [
        "Daily_News = 'Thursday, 18 August 1977'\n",
        "new_datetime3 = datetime.strptime(Daily_News, '%A, %d %B %Y')\n",
        "new_datetime3"
      ],
      "metadata": {
        "colab": {
          "base_uri": "https://localhost:8080/"
        },
        "id": "DEIf0z_Hc4c7",
        "outputId": "bf3ce78b-9824-4d08-a0f5-63c99e6a85f0"
      },
      "execution_count": null,
      "outputs": [
        {
          "output_type": "execute_result",
          "data": {
            "text/plain": [
              "datetime.datetime(1977, 8, 18, 0, 0)"
            ]
          },
          "metadata": {},
          "execution_count": 14
        }
      ]
    },
    {
      "cell_type": "markdown",
      "source": [
        "##Задание 2\n",
        "###Дан поток дат в формате YYYY-MM-DD, в которых встречаются некорректные значения:\n",
        "####stream = [‘2018-04-02’, ‘2018-02-29’, ‘2018-19-02’]\n",
        "\n",
        "###Напишите функцию, которая проверяет эти даты на корректность. Т. е. для каждой даты возвращает True (дата корректна) или False (некорректная дата)."
      ],
      "metadata": {
        "id": "Oe62ptaAVL73"
      }
    },
    {
      "cell_type": "code",
      "execution_count": null,
      "metadata": {
        "colab": {
          "base_uri": "https://localhost:8080/"
        },
        "id": "CvVgYk0sT4xJ",
        "outputId": "60cb95f5-21e9-4a12-c400-6f839f8d940c"
      },
      "outputs": [
        {
          "output_type": "execute_result",
          "data": {
            "text/plain": [
              "{'2018-02-29': 'Date is False',\n",
              " '2018-04-02': 'Date is True',\n",
              " '2018-19-02': 'Date is False'}"
            ]
          },
          "metadata": {},
          "execution_count": 29
        }
      ],
      "source": [
        "stream = ['2018-04-02', '2018-02-29', '2018-19-02']\n",
        "\n",
        "def date_right(stream):\n",
        "  '''\n",
        "  проверка дат на корректность\n",
        "  '''\n",
        "  \n",
        "  my_dict = {}\n",
        "  for line in stream:\n",
        "    try:\n",
        "      new_line = datetime.strptime(line, '%Y-%m-%d')\n",
        "      my_dict[line] = 'Date is True'\n",
        "    except:\n",
        "      my_dict[line] = 'Date is False'\n",
        "  result = my_dict\n",
        "  return result\n",
        "\n",
        "date_right(stream)"
      ]
    },
    {
      "cell_type": "markdown",
      "source": [
        "##Задание 3\n",
        "###Напишите функцию date_range, которая возвращает список дат за период от start_date до end_date. Даты должны вводиться в формате YYYY-MM-DD. В случае неверного формата или при start_date > end_date должен возвращаться пустой список."
      ],
      "metadata": {
        "id": "L2wUIktooXkn"
      }
    },
    {
      "cell_type": "code",
      "source": [
        "from datetime import datetime\n",
        "from datetime import timedelta"
      ],
      "metadata": {
        "id": "-ybUTh9oxgdD"
      },
      "execution_count": null,
      "outputs": []
    },
    {
      "cell_type": "code",
      "source": [
        "def date_range():\n",
        "  '''\n",
        "  возвращает список дат в некотором интервале\n",
        "  '''\n",
        "\n",
        "  start_date, end_date = input('Введите начальную дату: '), input('Введите конечную дату: ')\n",
        "  \n",
        "  #проверка дат на корректность ввода и сoответствия нужному формату\n",
        "  \n",
        "  stream = [start_date, end_date]\n",
        "  counter = 0\n",
        "  for line in stream:\n",
        "    try:\n",
        "      new_line = datetime.strptime(line, '%Y-%m-%d')\n",
        "      counter += 1\n",
        "    except:\n",
        "      counter = 0\n",
        "    \n",
        "  if start_date > end_date or counter != 2:  # проверка условия: нач.дата должна быть меньше кон.даты и формат должен быть корректным\n",
        "    result = []\n",
        "  else:  # если все в порядке, выводим список дат\n",
        "    my_list = []\n",
        "    current_dt = datetime.strptime(start_date, '%Y-%m-%d')\n",
        "    while current_dt.strftime('%Y-%m-%d') <= end_date:\n",
        "      my_list.append(current_dt.strftime('%Y-%m-%d'))\n",
        "      current_dt += timedelta(days=1)\n",
        "      result = my_list\n",
        "  return result\n",
        "\n",
        "date_range()"
      ],
      "metadata": {
        "colab": {
          "base_uri": "https://localhost:8080/"
        },
        "id": "P4tSHni3pX97",
        "outputId": "33c4a8e2-8651-42a6-e8be-35b50a8e2dbd"
      },
      "execution_count": null,
      "outputs": [
        {
          "name": "stdout",
          "output_type": "stream",
          "text": [
            "Введите начальную дату: 2021-19-01\n",
            "Введите конечную дату: 2021-01-01\n"
          ]
        },
        {
          "output_type": "execute_result",
          "data": {
            "text/plain": [
              "[]"
            ]
          },
          "metadata": {},
          "execution_count": 35
        }
      ]
    },
    {
      "cell_type": "markdown",
      "source": [
        "##Задание 4 (бонусное)\n",
        "###Ваш коллега прислал код функции:\n",
        "\n",
        "####DEFAULT_USER_COUNT = 3\n",
        "####def delete_and_return_last_user(region, default_list=[‘A100’, ‘A101’, ‘A102’]):\n",
        "####\"\"“\n",
        "####Удаляет из списка default_list последнего пользователя\n",
        "####и возвращает ID нового последнего пользователя.\n",
        "####”\"\"\n",
        "####element_to_delete = default_list[-1]\n",
        "####default_list.remove(element_to_delete)\n",
        "####1 return default_list[DEFAULT_USER_COUNT-2]\n",
        "\n",
        "####При однократном вызове этой функции все работает корректно:\n",
        "####delete_and_return_last_user(1)\n",
        "####‘A101’\n",
        "\n",
        "####Однако, при повторном вызове получается ошибка IndexError: list index out of range.\n",
        "\n",
        "###Задание:\n",
        "\n",
        "####1.Что значит ошибка list index out of range?\n",
        "####2.Почему при первом запуске функция работает корректно, а при втором - нет?"
      ],
      "metadata": {
        "id": "SF6mbZmT1AkW"
      }
    },
    {
      "cell_type": "code",
      "source": [
        "'''\n",
        " 1. Индекс, к которому обращается функция при повторном запуске, не существует/ находится вне указанного интервала\n",
        " 2. Ошибка в значении DEFAULT_USER_COUNT = 3\n",
        "При первом запуске функция удалила последнего пользователя А102 и вернула значение текущего последнего пользователя А101\n",
        "return default_list[DEFAULT_USER_COUNT-2] т.е return default_list[3-2]\n",
        "DEFAULT_USER_COUNT нужно было присвоить новое значение = len(default_list)\n",
        "Т.к этого не было сделано, при повторном запуске функция удаляет последнего пользователя А101 и пытается вернуть новое значение последнего пользователя\n",
        "return default_list[3-2], которое только что удалила.\n",
        "'''\n",
        "\n",
        "def delete_and_return_last_user(region, default_list=['A100', 'A101', 'A102']):\n",
        "  '''\n",
        "  Удаляет из списка default_list последнего пользователя\n",
        "  и возвращает ID нового последнего пользователя.\n",
        "  '''\n",
        "  DEFAULT_USER_COUNT = len(default_list)\n",
        "  element_to_delete = default_list[-1]\n",
        "  default_list.remove(element_to_delete)\n",
        "\n",
        "  return default_list[DEFAULT_USER_COUNT-2]\n"
      ],
      "metadata": {
        "id": "AtSTrVO37CYH"
      },
      "execution_count": null,
      "outputs": []
    }
  ]
}